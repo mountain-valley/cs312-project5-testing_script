{
 "cells": [
  {
   "cell_type": "code",
   "execution_count": 1,
   "outputs": [],
   "source": [
    "import TSPSolver\n",
    "import pandas as pd\n",
    "import numpy as np\n",
    "from tester import Tester"
   ],
   "metadata": {
    "collapsed": false,
    "pycharm": {
     "name": "#%%\n"
    }
   }
  },
  {
   "cell_type": "code",
   "execution_count": 3,
   "metadata": {
    "collapsed": true,
    "pycharm": {
     "name": "#%%\n"
    }
   },
   "outputs": [
    {
     "name": "stdout",
     "output_type": "stream",
     "text": [
      "   size  seed  # Soln   cost       time  max Q  tot States  pruned\n",
      "0    14     1       2  10573  16.100513  75762      125004  101322\n",
      "1    14     3       2   8638  13.236482  14261      114685   95746\n"
     ]
    }
   ],
   "source": [
    "test = Tester()\n",
    "\n",
    "names = [\"size\", \"seed\", \"# Soln\", \"cost\", \"time\", \"max Q\", \"tot States\", \"pruned\"]\n",
    "inputs = [[14, 1, False, 'branchAndBound', 'Hard (Deterministic)', 60],\n",
    "          [14, 2, False, 'branchAndBound', 'Hard (Deterministic)', 60],\n",
    "          [14, 3, False, 'branchAndBound', 'Hard (Deterministic)', 60]]\n",
    "\n",
    "outputs = []\n",
    "\n",
    "for input_list in inputs:\n",
    "    test.solve(input_list[0], input_list[1], input_list[2], input_list[3], input_list[4], input_list[5])\n",
    "    outputs.append(test.returnParam())\n",
    "    # print(tester.returnParam())\n",
    "\n",
    "# print(outputs)\n",
    "table = pd.DataFrame(outputs, columns=names)\n",
    "print(table)\n"
   ]
  }
 ],
 "metadata": {
  "kernelspec": {
   "display_name": "Python 3",
   "language": "python",
   "name": "python3"
  },
  "language_info": {
   "codemirror_mode": {
    "name": "ipython",
    "version": 2
   },
   "file_extension": ".py",
   "mimetype": "text/x-python",
   "name": "python",
   "nbconvert_exporter": "python",
   "pygments_lexer": "ipython2",
   "version": "2.7.6"
  }
 },
 "nbformat": 4,
 "nbformat_minor": 0
}