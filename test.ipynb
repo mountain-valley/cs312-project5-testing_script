{
 "cells": [
  {
   "cell_type": "code",
   "execution_count": 2,
   "outputs": [],
   "source": [
    "import pandas as pd\n",
    "import numpy as np\n",
    "from tester import Tester"
   ],
   "metadata": {
    "collapsed": false,
    "pycharm": {
     "name": "#%%\n"
    }
   }
  },
  {
   "cell_type": "code",
   "execution_count": 4,
   "metadata": {
    "collapsed": true,
    "pycharm": {
     "name": "#%%\n"
    }
   },
   "outputs": [
    {
     "name": "stdout",
     "output_type": "stream",
     "text": [
      "   size  seed  time   cost  max Q  # soln  tot States  pruned\n",
      "0    15    20  36.0  10534     77       8      210100  175935\n",
      "1    16   902  60.0   7954    100       0      275175  234400\n",
      "        size    seed   time      cost   max Q  # soln  tot States     pruned\n",
      "count   2.00    2.00   2.00      2.00    2.00    2.00        2.00       2.00\n",
      "mean   15.50  461.00  48.00   9244.00   88.50    4.00   242637.50  205167.50\n",
      "std     0.71  623.67  16.97   1824.34   16.26    5.66    46014.97   41341.00\n",
      "min    15.00   20.00  36.00   7954.00   77.00    0.00   210100.00  175935.00\n",
      "25%    15.25  240.50  42.00   8599.00   82.75    2.00   226368.75  190551.25\n",
      "50%    15.50  461.00  48.00   9244.00   88.50    4.00   242637.50  205167.50\n",
      "75%    15.75  681.50  54.00   9889.00   94.25    6.00   258906.25  219783.75\n",
      "max    16.00  902.00  60.00  10534.00  100.00    8.00   275175.00  234400.00\n"
     ]
    }
   ],
   "source": [
    "\n",
    "outputs = []\n",
    "\n",
    "test = Tester()\n",
    "\n",
    "# names = [0\"size\", 1\"seed\", 2\"num Solutions\", 3\"tour Cost\", 4\"time\", 5\"max Q Size\", 6\"total States\",\n",
    "# 7\"pruned States\"]\n",
    "inputs = [[15, 20, False, 'branchAndBound', 'Hard (Deterministic)', 60],\n",
    "          [16, 902, False, 'branchAndBound', 'Hard (Deterministic)', 60],\n",
    "          [10, 1, True, 'branchAndBound', 'Hard (Deterministic)', 60],\n",
    "          [12, 1, True, 'branchAndBound', 'Hard (Deterministic)', 60],\n",
    "          [13, 1, True, 'branchAndBound', 'Hard (Deterministic)', 60],\n",
    "          [20, 1, True, 'branchAndBound', 'Hard (Deterministic)', 60],\n",
    "          [25, 1, True, 'branchAndBound', 'Hard (Deterministic)', 60],\n",
    "          [30, 1, True, 'branchAndBound', 'Hard (Deterministic)', 60],\n",
    "          [40, 1, True, 'branchAndBound', 'Hard (Deterministic)', 60],\n",
    "          [50, 1, True, 'branchAndBound', 'Hard (Deterministic)', 60]]\n",
    "\n",
    "outputs = []\n",
    "\n",
    "for input_list in inputs:\n",
    "    test.solve(input_list[0], input_list[1], input_list[2], input_list[3], input_list[4], input_list[5])\n",
    "    outputs.append(test.returnParam())\n",
    "\n",
    "names = [\"size\", \"seed\", \"time\", \"cost\", \"max Q\", \"# soln\", \"tot States\", \"pruned\"]\n",
    "table = pd.DataFrame(outputs, columns=names)\n",
    "pd.set_option(\"display.precision\", 2)\n",
    "print(table)\n",
    "print(table.describe())\n"
   ]
  }
 ],
 "metadata": {
  "kernelspec": {
   "display_name": "Python 3",
   "language": "python",
   "name": "python3"
  },
  "language_info": {
   "codemirror_mode": {
    "name": "ipython",
    "version": 2
   },
   "file_extension": ".py",
   "mimetype": "text/x-python",
   "name": "python",
   "nbconvert_exporter": "python",
   "pygments_lexer": "ipython2",
   "version": "2.7.6"
  }
 },
 "nbformat": 4,
 "nbformat_minor": 0
}